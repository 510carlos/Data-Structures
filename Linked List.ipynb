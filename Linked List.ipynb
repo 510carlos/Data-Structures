{
 "cells": [
  {
   "cell_type": "markdown",
   "metadata": {},
   "source": [
    "We are going to create a single link linked list data structure."
   ]
  },
  {
   "cell_type": "code",
   "execution_count": 1,
   "metadata": {
    "collapsed": false
   },
   "outputs": [],
   "source": [
    "class Element(object):\n",
    "    def __init__(self, value):\n",
    "        self.value = value\n",
    "        self.next = None"
   ]
  },
  {
   "cell_type": "markdown",
   "metadata": {},
   "source": [
    "The linked list has a few operation we can perform on it. The operations are append, position, insert, and delete."
   ]
  },
  {
   "cell_type": "code",
   "execution_count": 2,
   "metadata": {
    "collapsed": true
   },
   "outputs": [],
   "source": [
    "class LinkedList(object):\n",
    "    def __init__(self, head=None):\n",
    "        self.head = head\n",
    "        \n",
    "    def append(self, new_element):\n",
    "        current = self.head\n",
    "        if self.head:\n",
    "            while current.next:\n",
    "                current = current.next\n",
    "            current.next = new_element\n",
    "        else:\n",
    "            self.head = new_element\n",
    "    \n",
    "    def position(self, position):\n",
    "        counter = 1\n",
    "        current = self.head\n",
    "        if position < 1:\n",
    "            return None\n",
    "        while current and counter <= position:\n",
    "            if counter == position:\n",
    "                return current\n",
    "            current = current.next\n",
    "            counter += 1\n",
    "        return None\n",
    "    \n",
    "    def insert(self, new_element, position):\n",
    "        counter = 1\n",
    "        current = self.head\n",
    "        if position > 1:\n",
    "            while current and counter < position:\n",
    "                if counter == position - 1:\n",
    "                    new_element.next = current.next\n",
    "                    current.next = new_element\n",
    "                current = current.next\n",
    "                counter += 1\n",
    "        elif position == 1:\n",
    "            new_element.next = self.head\n",
    "            self.head = new_element\n",
    "            \n",
    "    def delete(self, value):\n",
    "        current = self.head\n",
    "        previous = None\n",
    "        while current.value != value and current.next:\n",
    "            previous = current\n",
    "            current = current.next\n",
    "        if current.value == value:\n",
    "            if previous:\n",
    "                previous.next = current.next\n",
    "            else:\n",
    "                self.head = current.next\n",
    "    "
   ]
  },
  {
   "cell_type": "markdown",
   "metadata": {},
   "source": [
    "We are going to do a simple example of the linked list. \n",
    "We are going to create 4 elements, create a linked list, append twice, delete once, and insert an element on postion 4.\n"
   ]
  },
  {
   "cell_type": "code",
   "execution_count": 3,
   "metadata": {
    "collapsed": false
   },
   "outputs": [
    {
     "name": "stdout",
     "output_type": "stream",
     "text": [
      "1\n",
      "2\n",
      "3\n",
      "4\n"
     ]
    }
   ],
   "source": [
    "element1 = Element(1)\n",
    "element2 = Element(2)\n",
    "element3 = Element(3)\n",
    "element4 = Element(4)\n",
    "\n",
    "linked_list = LinkedList(element1)\n",
    "linked_list.append(element2)\n",
    "linked_list.append(element3)\n",
    "linked_list.delete(element2)\n",
    "linked_list.insert(element4, 4)\n",
    "\n",
    "print linked_list.position(1).value\n",
    "print linked_list.position(2).value\n",
    "print linked_list.position(3).value\n",
    "print linked_list.position(4).value\n"
   ]
  },
  {
   "cell_type": "code",
   "execution_count": null,
   "metadata": {
    "collapsed": true
   },
   "outputs": [],
   "source": []
  }
 ],
 "metadata": {
  "kernelspec": {
   "display_name": "Python 2",
   "language": "python",
   "name": "python2"
  },
  "language_info": {
   "codemirror_mode": {
    "name": "ipython",
    "version": 2
   },
   "file_extension": ".py",
   "mimetype": "text/x-python",
   "name": "python",
   "nbconvert_exporter": "python",
   "pygments_lexer": "ipython2",
   "version": "2.7.13"
  }
 },
 "nbformat": 4,
 "nbformat_minor": 2
}
