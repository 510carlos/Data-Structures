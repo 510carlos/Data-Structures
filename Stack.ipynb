{
 "cells": [
  {
   "cell_type": "markdown",
   "metadata": {},
   "source": [
    "We are going to implement a data structure called a stack. First we are going to create the Element node with a value and next link. Then we are going to write the operations we can do on a linked list stack. The link list operations are append, insert first, delete first. The operations on the stack are push and pop."
   ]
  },
  {
   "cell_type": "code",
   "execution_count": 1,
   "metadata": {
    "collapsed": false
   },
   "outputs": [],
   "source": [
    "class Element(object):\n",
    "    def __init__(self, value):\n",
    "        self.value = value\n",
    "        self.next = None"
   ]
  },
  {
   "cell_type": "code",
   "execution_count": 2,
   "metadata": {
    "collapsed": true
   },
   "outputs": [],
   "source": [
    "class LinkedList(object):\n",
    "    def __init__(self, head=None):\n",
    "        self.head = head\n",
    "    \n",
    "    def append(self, element):\n",
    "        current = self.head\n",
    "        if self.head:\n",
    "            while current.next:\n",
    "                current = current.next\n",
    "            current.next = element\n",
    "        else:\n",
    "            self.head = element\n",
    "    \n",
    "    def insert_first(self, element):\n",
    "        element.next = self.head\n",
    "        self.head = element\n",
    "        \n",
    "    def delete_first(self):\n",
    "        if self.head:\n",
    "            deleted_element = self.head\n",
    "            temp = deleted_element.next\n",
    "            self.head = temp\n",
    "            return deleted_element\n",
    "        else:\n",
    "            return None"
   ]
  },
  {
   "cell_type": "code",
   "execution_count": 3,
   "metadata": {
    "collapsed": true
   },
   "outputs": [],
   "source": [
    "class Stack(object):\n",
    "    def __init__(self, top=None):\n",
    "        self.ll = LinkedList(top)\n",
    "    \n",
    "    def push(self, element):\n",
    "        self.ll.insert_first(element)\n",
    "        \n",
    "    def pop(self):\n",
    "        return self.ll.delete_first()"
   ]
  },
  {
   "cell_type": "code",
   "execution_count": 4,
   "metadata": {
    "collapsed": false
   },
   "outputs": [
    {
     "name": "stdout",
     "output_type": "stream",
     "text": [
      "2\n",
      "4\n"
     ]
    }
   ],
   "source": [
    "element1 = Element(1)\n",
    "element2 = Element(2)\n",
    "element3 = Element(3)\n",
    "element4 = Element(4)\n",
    "\n",
    "stack = Stack(element1)\n",
    "\n",
    "stack.push(element2)\n",
    "stack.push(element3)\n",
    "\n",
    "stack.pop()\n",
    "print stack.pop().value\n",
    "stack.push(element4)\n",
    "print stack.pop().value"
   ]
  },
  {
   "cell_type": "code",
   "execution_count": null,
   "metadata": {
    "collapsed": true
   },
   "outputs": [],
   "source": []
  }
 ],
 "metadata": {
  "kernelspec": {
   "display_name": "Python 2",
   "language": "python",
   "name": "python2"
  },
  "language_info": {
   "codemirror_mode": {
    "name": "ipython",
    "version": 2
   },
   "file_extension": ".py",
   "mimetype": "text/x-python",
   "name": "python",
   "nbconvert_exporter": "python",
   "pygments_lexer": "ipython2",
   "version": "2.7.13"
  }
 },
 "nbformat": 4,
 "nbformat_minor": 2
}
