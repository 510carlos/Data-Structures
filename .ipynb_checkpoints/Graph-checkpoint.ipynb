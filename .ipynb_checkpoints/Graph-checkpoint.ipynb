{
 "cells": [
  {
   "cell_type": "markdown",
   "metadata": {},
   "source": [
    "We are going to use a graph data structure which can be used for many aplications. We are going to need a Node, Edge and a Graph data structure which together help represant a graph. Some of the operations the Graph data structure will have are: insert_nodes, insert_edge, get_edge_list, get_adjancency_list, get_adjacency_matrix and find_max_index."
   ]
  },
  {
   "cell_type": "code",
   "execution_count": 1,
   "metadata": {
    "collapsed": true
   },
   "outputs": [],
   "source": [
    "class Node(object):\n",
    "    def __init__(self, value):\n",
    "        self.value = value\n",
    "        self.edges = []"
   ]
  },
  {
   "cell_type": "code",
   "execution_count": 2,
   "metadata": {
    "collapsed": true
   },
   "outputs": [],
   "source": [
    "class Edge(object):\n",
    "    def __init__(self, value, node_from, node_to):\n",
    "        self.value = value\n",
    "        self.node_from = node_from\n",
    "        self.node_to = node_to"
   ]
  },
  {
   "cell_type": "code",
   "execution_count": 3,
   "metadata": {
    "collapsed": true
   },
   "outputs": [],
   "source": [
    "class Graph(object):\n",
    "    def __init__(self, nodes=[], edges=[]):\n",
    "        self.nodes = nodes\n",
    "        self.edges = edges\n",
    "    \n",
    "    def insert_node(self):\n",
    "        new_node = Node(new_node_val)\n",
    "        self.nodes.append(new_node)\n",
    "    \n",
    "    def insert_edge(self, new_edge_val, node_from_val, node_to_val):\n",
    "        from_found = None\n",
    "        to_found = None\n",
    "        for node in self.nodes:\n",
    "            if node_from_val == node.value:\n",
    "                from_found = node\n",
    "            if node_to_val == node.value:\n",
    "                to_found = node\n",
    "        if from_found == None:\n",
    "            from_found = Node(node_from_val)\n",
    "            self.nodes.append(from_found)\n",
    "        if to_found == None:\n",
    "            to_found = Node(node_to_val)\n",
    "            self.nodes.append(to_found)\n",
    "        new_edge = Edge(new_edge_val, from_found, to_found)\n",
    "        from_found.edges.append(new_edge)\n",
    "        to_found.edges.append(new_edge)\n",
    "        self.edges.append(new_edge)\n",
    "    \n",
    "    def get_edge_list(self):\n",
    "        edge_list = []\n",
    "        for edge_object in self.edges:\n",
    "            edge = (edge_object.value, edge_object.node_from.value,\n",
    "                   edge_object.node_to.value)\n",
    "            edge_list.append(edge)\n",
    "        return edge_list\n",
    "    \n",
    "    def get_adjacency_list(self):\n",
    "        max_index = self.find_max_index()\n",
    "        adjancency_list = [None] * (max_index + 1)\n",
    "        for edge_object in self.edges:\n",
    "            if adjancency_list[edge_object.node_from.value]:\n",
    "                adjancency_list[edge_object.node_from.value].append((edge_object.node_to.value,\n",
    "                                                                    edge_object.value))\n",
    "            else:\n",
    "                adjancency_list[edge_object.node_from.value] = [(edge_object.node_to.value,\n",
    "                                                               edge_object.value)]\n",
    "        return adjecency_list\n",
    "                \n",
    "    \n",
    "    def get_adjencency_matrix(self):\n",
    "        max_index = self.find_max_index()\n",
    "        adjacency_matrix = [[0 for i in range(max_index + 1)] for j in range(max_index + 1)]\n",
    "        for edge_object in self.edges:\n",
    "            adjacency_matrix[edge_object.node_from.value][edge_object.node_to.value] = edge_object.value\n",
    "        return adjacency_matrix\n",
    "    \n",
    "    def find_max_index(self):\n",
    "        max_index = -1\n",
    "        if len(self.nodes):\n",
    "            for node in self.nodes:\n",
    "                if node.value > max_index:\n",
    "                    max_index = node.value\n",
    "        return max_index\n",
    "    "
   ]
  },
  {
   "cell_type": "code",
   "execution_count": 4,
   "metadata": {
    "collapsed": false
   },
   "outputs": [
    {
     "name": "stdout",
     "output_type": "stream",
     "text": [
      "[(100, 1, 2), (101, 1, 3), (102, 1, 4), (103, 3, 4)]\n"
     ]
    },
    {
     "ename": "NameError",
     "evalue": "global name 'adjacency_list' is not defined",
     "output_type": "error",
     "traceback": [
      "\u001b[0;31m---------------------------------------------------------------------------\u001b[0m",
      "\u001b[0;31mNameError\u001b[0m                                 Traceback (most recent call last)",
      "\u001b[0;32m<ipython-input-4-549dfa602ecd>\u001b[0m in \u001b[0;36m<module>\u001b[0;34m()\u001b[0m\n\u001b[1;32m      7\u001b[0m \u001b[0;32mprint\u001b[0m \u001b[0mgraph\u001b[0m\u001b[0;34m.\u001b[0m\u001b[0mget_edge_list\u001b[0m\u001b[0;34m(\u001b[0m\u001b[0;34m)\u001b[0m\u001b[0;34m\u001b[0m\u001b[0m\n\u001b[1;32m      8\u001b[0m \u001b[0;31m# Should be [None, [(2, 100), (3, 101), (4, 102)], None, [(4, 103)], None]\u001b[0m\u001b[0;34m\u001b[0m\u001b[0;34m\u001b[0m\u001b[0m\n\u001b[0;32m----> 9\u001b[0;31m \u001b[0;32mprint\u001b[0m \u001b[0mgraph\u001b[0m\u001b[0;34m.\u001b[0m\u001b[0mget_adjacency_list\u001b[0m\u001b[0;34m(\u001b[0m\u001b[0;34m)\u001b[0m\u001b[0;34m\u001b[0m\u001b[0m\n\u001b[0m\u001b[1;32m     10\u001b[0m \u001b[0;31m# Should be [[0, 0, 0, 0, 0], [0, 0, 100, 101, 102], [0, 0, 0, 0, 0], [0, 0, 0, 0, 103], [0, 0, 0, 0, 0]]\u001b[0m\u001b[0;34m\u001b[0m\u001b[0;34m\u001b[0m\u001b[0m\n\u001b[1;32m     11\u001b[0m \u001b[0;32mprint\u001b[0m \u001b[0mgraph\u001b[0m\u001b[0;34m.\u001b[0m\u001b[0mget_adjacency_matrix\u001b[0m\u001b[0;34m(\u001b[0m\u001b[0;34m)\u001b[0m\u001b[0;34m\u001b[0m\u001b[0m\n",
      "\u001b[0;32m<ipython-input-3-904db4755471>\u001b[0m in \u001b[0;36mget_adjacency_list\u001b[0;34m(self)\u001b[0m\n\u001b[1;32m     39\u001b[0m         \u001b[0madjancency_list\u001b[0m \u001b[0;34m=\u001b[0m \u001b[0;34m[\u001b[0m\u001b[0mNone\u001b[0m\u001b[0;34m]\u001b[0m \u001b[0;34m*\u001b[0m \u001b[0;34m(\u001b[0m\u001b[0mmax_index\u001b[0m \u001b[0;34m+\u001b[0m \u001b[0;36m1\u001b[0m\u001b[0;34m)\u001b[0m\u001b[0;34m\u001b[0m\u001b[0m\n\u001b[1;32m     40\u001b[0m         \u001b[0;32mfor\u001b[0m \u001b[0medge_object\u001b[0m \u001b[0;32min\u001b[0m \u001b[0mself\u001b[0m\u001b[0;34m.\u001b[0m\u001b[0medges\u001b[0m\u001b[0;34m:\u001b[0m\u001b[0;34m\u001b[0m\u001b[0m\n\u001b[0;32m---> 41\u001b[0;31m             \u001b[0;32mif\u001b[0m \u001b[0madjacency_list\u001b[0m\u001b[0;34m[\u001b[0m\u001b[0medge_object\u001b[0m\u001b[0;34m.\u001b[0m\u001b[0mnode_from\u001b[0m\u001b[0;34m.\u001b[0m\u001b[0mvalue\u001b[0m\u001b[0;34m]\u001b[0m\u001b[0;34m:\u001b[0m\u001b[0;34m\u001b[0m\u001b[0m\n\u001b[0m\u001b[1;32m     42\u001b[0m                 adjancency_list[edge_object.node_from.value].append((edge_object.node_to.value,\n\u001b[1;32m     43\u001b[0m                                                                     edge_object.value))\n",
      "\u001b[0;31mNameError\u001b[0m: global name 'adjacency_list' is not defined"
     ]
    }
   ],
   "source": [
    "graph = Graph()\n",
    "graph.insert_edge(100, 1, 2)\n",
    "graph.insert_edge(101, 1, 3)\n",
    "graph.insert_edge(102, 1, 4)\n",
    "graph.insert_edge(103, 3, 4)\n",
    "# Should be [(100, 1, 2), (101, 1, 3), (102, 1, 4), (103, 3, 4)]\n",
    "print graph.get_edge_list()\n",
    "# Should be [None, [(2, 100), (3, 101), (4, 102)], None, [(4, 103)], None]\n",
    "print graph.get_adjacency_list()\n",
    "# Should be [[0, 0, 0, 0, 0], [0, 0, 100, 101, 102], [0, 0, 0, 0, 0], [0, 0, 0, 0, 103], [0, 0, 0, 0, 0]]\n",
    "print graph.get_adjacency_matrix()"
   ]
  },
  {
   "cell_type": "code",
   "execution_count": null,
   "metadata": {
    "collapsed": true
   },
   "outputs": [],
   "source": []
  }
 ],
 "metadata": {
  "kernelspec": {
   "display_name": "Python 2",
   "language": "python",
   "name": "python2"
  },
  "language_info": {
   "codemirror_mode": {
    "name": "ipython",
    "version": 2
   },
   "file_extension": ".py",
   "mimetype": "text/x-python",
   "name": "python",
   "nbconvert_exporter": "python",
   "pygments_lexer": "ipython2",
   "version": "2.7.13"
  }
 },
 "nbformat": 4,
 "nbformat_minor": 2
}
