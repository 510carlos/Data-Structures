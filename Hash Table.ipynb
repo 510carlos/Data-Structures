{
 "cells": [
  {
   "cell_type": "code",
   "execution_count": 1,
   "metadata": {
    "collapsed": false
   },
   "outputs": [
    {
     "name": "stdout",
     "output_type": "stream",
     "text": [
      "6797\n",
      "-1\n",
      "6797\n",
      "6797\n"
     ]
    }
   ],
   "source": [
    "class HashTable(object):\n",
    "    def __init__(self):\n",
    "        self.table = [None]*10000\n",
    "        \n",
    "    def store(self, string):\n",
    "        ''' Input a string to be stored in table '''\n",
    "        hash_value = self.calculate_hash_value(string)\n",
    "        if self.table[hash_value]:\n",
    "            self.table[hash_value].append(string)\n",
    "        else:\n",
    "            self.table[hash_value] = [string]\n",
    "    \n",
    "    def lookup(self, string):\n",
    "        ''' Return the hash value '''\n",
    "        hash_value = self.calculate_hash_value(string)\n",
    "        if self.table[hash_value]:\n",
    "            return hash_value\n",
    "        else:\n",
    "            return -1\n",
    "    \n",
    "    def calculate_hash_value(self, string):\n",
    "        ''' Calculate the hash value from string '''\n",
    "        if len(string) < 2:\n",
    "            raise Exception(\"String is too small\")\n",
    "            \n",
    "        return ord(string[0]) * 100 + ord(string[1])\n",
    "    \n",
    "# Setup\n",
    "ht = HashTable()\n",
    "print ht.calculate_hash_value('Carlos')\n",
    "print ht.lookup('Carlos')\n",
    "\n",
    "\n",
    "ht.store('Carlos')\n",
    "print ht.lookup('Carlos')\n",
    "\n",
    "ht.store('Carlos M')\n",
    "print ht.lookup('Carlos M')\n"
   ]
  },
  {
   "cell_type": "code",
   "execution_count": null,
   "metadata": {
    "collapsed": true
   },
   "outputs": [],
   "source": []
  }
 ],
 "metadata": {
  "kernelspec": {
   "display_name": "Python 2",
   "language": "python",
   "name": "python2"
  },
  "language_info": {
   "codemirror_mode": {
    "name": "ipython",
    "version": 2
   },
   "file_extension": ".py",
   "mimetype": "text/x-python",
   "name": "python",
   "nbconvert_exporter": "python",
   "pygments_lexer": "ipython2",
   "version": "2.7.13"
  }
 },
 "nbformat": 4,
 "nbformat_minor": 2
}
