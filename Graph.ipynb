{
 "cells": [
  {
   "cell_type": "markdown",
   "metadata": {},
   "source": [
    "We are going to use a graph data structure which can be used for many aplications. We are going to need a Node, Edge and a Graph data structure which together help represant a graph. Some of the operations the Graph data structure will have are: insert_nodes, insert_edge, get_edge_list, get_adjancency_list, get_adjacency_matrix and find_max_index."
   ]
  },
  {
   "cell_type": "code",
   "execution_count": 1,
   "metadata": {
    "collapsed": true
   },
   "outputs": [],
   "source": [
    "class Node(object):\n",
    "    def __init__(self, value):\n",
    "        self.value = value\n",
    "        self.edges = []"
   ]
  },
  {
   "cell_type": "code",
   "execution_count": 2,
   "metadata": {
    "collapsed": true
   },
   "outputs": [],
   "source": [
    "class Edge(object):\n",
    "    def __init__(self, value, node_from, node_to):\n",
    "        self.value = value\n",
    "        self.node_from = node_from\n",
    "        self.node_to = node_to"
   ]
  },
  {
   "cell_type": "code",
   "execution_count": 3,
   "metadata": {
    "collapsed": true
   },
   "outputs": [],
   "source": [
    "class Graph(object):\n",
    "    def __init__(self, nodes=[], edges=[]):\n",
    "        self.nodes = nodes\n",
    "        self.edges = edges\n",
    "    \n",
    "    def insert_node(self):\n",
    "        new_node = Node(new_node_val)\n",
    "        self.nodes.append(new_node)\n",
    "    \n",
    "    def insert_edge(self, new_edge_val, node_from_val, node_to_val):\n",
    "        from_found = None\n",
    "        to_found = None\n",
    "        for node in self.nodes:\n",
    "            if node_from_val == node.value:\n",
    "                from_found = node\n",
    "            if node_to_val == node.value:\n",
    "                to_found = node\n",
    "        if from_found == None:\n",
    "            from_found = Node(node_from_val)\n",
    "            self.nodes.append(from_found)\n",
    "        if to_found == None:\n",
    "            to_found = Node(node_to_val)\n",
    "            self.nodes.append(to_found)\n",
    "        new_edge = Edge(new_edge_val, from_found, to_found)\n",
    "        from_found.edges.append(new_edge)\n",
    "        to_found.edges.append(new_edge)\n",
    "        self.edges.append(new_edge)\n",
    "    \n",
    "    def get_edge_list(self):\n",
    "        edge_list = []\n",
    "        for edge_object in self.edges:\n",
    "            edge = (edge_object.value, edge_object.node_from.value,\n",
    "                   edge_object.node_to.value)\n",
    "            edge_list.append(edge)\n",
    "        return edge_list\n",
    "    \n",
    "    def get_adjacency_list(self):\n",
    "        max_index = self.find_max_index()\n",
    "        adjancency_list = [None] * (max_index + 1)\n",
    "        for edge_object in self.edges:\n",
    "            if adjancency_list[edge_object.node_from.value]:\n",
    "                adjancency_list[edge_object.node_from.value].append((edge_object.node_to.value,\n",
    "                                                                    edge_object.value))\n",
    "            else:\n",
    "                adjancency_list[edge_object.node_from.value] = [(edge_object.node_to.value,\n",
    "                                                               edge_object.value)]\n",
    "        return adjancency_list\n",
    "                \n",
    "    \n",
    "    def get_adjacency_matrix(self):\n",
    "        max_index = self.find_max_index()\n",
    "        adjacency_matrix = [[0 for i in range(max_index + 1)] for j in range(max_index + 1)]\n",
    "        for edge_object in self.edges:\n",
    "            adjacency_matrix[edge_object.node_from.value][edge_object.node_to.value] = edge_object.value\n",
    "        return adjacency_matrix\n",
    "    \n",
    "    def find_max_index(self):\n",
    "        max_index = -1\n",
    "        if len(self.nodes):\n",
    "            for node in self.nodes:\n",
    "                if node.value > max_index:\n",
    "                    max_index = node.value\n",
    "        return max_index\n",
    "    "
   ]
  },
  {
   "cell_type": "code",
   "execution_count": 4,
   "metadata": {
    "collapsed": false
   },
   "outputs": [
    {
     "name": "stdout",
     "output_type": "stream",
     "text": [
      "[(50, 1, 2), (75, 1, 3), (100, 3, 2), (200, 2, 4)]\n",
      "[None, [(2, 50), (3, 75)], [(4, 200)], [(2, 100)], None]\n",
      "[[0, 0, 0, 0, 0], [0, 0, 50, 75, 0], [0, 0, 0, 0, 200], [0, 0, 100, 0, 0], [0, 0, 0, 0, 0]]\n"
     ]
    }
   ],
   "source": [
    "graph = Graph()\n",
    "graph.insert_edge(50, 1, 2)\n",
    "graph.insert_edge(75, 1, 3)\n",
    "graph.insert_edge(100, 3, 2)\n",
    "graph.insert_edge(200, 2, 4)\n",
    "print graph.get_edge_list()\n",
    "print graph.get_adjacency_list()\n",
    "print graph.get_adjacency_matrix()"
   ]
  },
  {
   "cell_type": "code",
   "execution_count": null,
   "metadata": {
    "collapsed": true
   },
   "outputs": [],
   "source": []
  }
 ],
 "metadata": {
  "kernelspec": {
   "display_name": "Python 2",
   "language": "python",
   "name": "python2"
  },
  "language_info": {
   "codemirror_mode": {
    "name": "ipython",
    "version": 2
   },
   "file_extension": ".py",
   "mimetype": "text/x-python",
   "name": "python",
   "nbconvert_exporter": "python",
   "pygments_lexer": "ipython2",
   "version": "2.7.13"
  }
 },
 "nbformat": 4,
 "nbformat_minor": 2
}
